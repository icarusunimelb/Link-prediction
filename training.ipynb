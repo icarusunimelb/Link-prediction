{
 "cells": [
  {
   "cell_type": "markdown",
   "metadata": {},
   "source": [
    "## Import & Utility"
   ]
  },
  {
   "cell_type": "code",
   "execution_count": 1,
   "metadata": {},
   "outputs": [],
   "source": [
    "import pandas as pd\n",
    "import matplotlib.pyplot as plt\n",
    "import seaborn as sns\n",
    "import numpy as np\n",
    "from scipy.stats import norm\n",
    "from scipy import stats\n",
    "import re\n",
    "import math\n",
    "import random\n",
    "\n",
    "from sklearn.feature_selection import RFE\n",
    "from sklearn.ensemble import RandomForestClassifier,  GradientBoostingClassifier, ExtraTreesClassifier, VotingClassifier\n",
    "from sklearn.svm import SVC\n",
    "from sklearn.neighbors import KNeighborsClassifier\n",
    "from sklearn.tree import DecisionTreeClassifier\n",
    "from sklearn.linear_model import LogisticRegression\n",
    "from sklearn.model_selection import train_test_split, GridSearchCV, cross_val_score, StratifiedKFold, learning_curve\n",
    "from sklearn.metrics import accuracy_score, confusion_matrix, roc_auc_score,roc_curve, auc\n",
    "from sklearn.preprocessing import StandardScaler, MinMaxScaler, RobustScaler\n",
    "from sklearn.neural_network import MLPClassifier\n",
    "from sklearn.discriminant_analysis import LinearDiscriminantAnalysis\n",
    "from xgboost import XGBClassifier\n",
    "import lightgbm as lgb\n",
    "\n",
    "import warnings\n",
    "warnings.filterwarnings(\"ignore\")\n",
    "\n",
    "%matplotlib inline\n",
    "\n",
    "def gini(actual, pred):\n",
    "    assert (len(actual) == len(pred))\n",
    "    all = np.asarray(np.c_[actual, pred, np.arange(len(actual))], dtype=np.float)\n",
    "    all = all[np.lexsort((all[:, 2], -1 * all[:, 1]))]\n",
    "    totalLosses = all[:, 0].sum()\n",
    "    giniSum = all[:, 0].cumsum().sum() / totalLosses\n",
    "\n",
    "    giniSum -= (len(actual) + 1) / 2.\n",
    "    return giniSum / len(actual)\n",
    "\n",
    "\n",
    "def gini_normalized(actual, pred):\n",
    "    return gini(actual, pred) / gini(actual, actual)\n",
    "\n",
    "def draw_gini(actual, predictions):\n",
    "    data = zip(actual, predictions)\n",
    "    sorted_data = sorted(data, key=lambda d: d[1])\n",
    "    sorted_actual = [d[0] for d in sorted_data]\n",
    "    #print('Sorted Actual Values', sorted_actual)\n",
    "    cumulative_actual = np.cumsum(sorted_actual)\n",
    "    cumulative_index = np.arange(1, len(cumulative_actual)+1)\n",
    "\n",
    "    cumulative_actual_shares = cumulative_actual / sum(actual)\n",
    "    cumulative_index_shares = cumulative_index / len(predictions)\n",
    "    \n",
    "    # Add (0, 0) to the plot\n",
    "    x_values = [0] + list(cumulative_index_shares)\n",
    "    y_values = [0] + list(cumulative_actual_shares)\n",
    "\n",
    "    # Display the 45° line stacked on top of the y values\n",
    "    diagonal = [x - y for (x, y) in zip(x_values, y_values)]\n",
    "\n",
    "    plt.stackplot(x_values, y_values, diagonal)\n",
    "    plt.xlabel('Cumulative Share of Predictions')\n",
    "    plt.ylabel('Cumulative Share of Actual Values')\n",
    "    #plt.show()\n",
    "\n",
    "def output_acc(y_test, y_pred):\n",
    "    accuracy = accuracy_score(y_test, y_pred)\n",
    "    print(\"Accuracy: %.2f%%\" % (accuracy * 100.0))\n",
    "    print(confusion_matrix(y_test, y_pred))\n",
    "    \n",
    "def output_gini(y_test, y_pred):\n",
    "    gini_predictions = gini(y_test, y_pred)\n",
    "    gini_max = gini(y_test, y_test)\n",
    "    ngini= gini_normalized(y_test, y_pred)\n",
    "    print('Gini: %.6f, Max. Gini: %.6f, Normalized Gini: %.6f' % (gini_predictions, gini_max, ngini))\n",
    "    fpr, tpr, thresholds = roc_curve(y_test, y_pred, pos_label=1)\n",
    "    print('AUC is : %.6f' % auc(fpr, tpr))\n",
    "    #plt.plot(fpr, tpr, 'b')\n",
    "    #plt.show()\n",
    "    \n",
    "    draw_gini(y_test,y_pred)"
   ]
  },
  {
   "cell_type": "markdown",
   "metadata": {},
   "source": [
    "## Data Preparation"
   ]
  },
  {
   "cell_type": "code",
   "execution_count": 2,
   "metadata": {},
   "outputs": [],
   "source": [
    "training_dataset = pd.read_csv('./data_processing/training_data.csv').iloc[:,1:]\n",
    "testing_dataset = pd.read_csv('./data_processing/testing_data.csv').iloc[:,1:]\n",
    "\n",
    "def get_XYT(col_list=None):\n",
    "    if col_list is not None:\n",
    "        training_subset = training_dataset[col_list+['Label']]\n",
    "        testing_subset = testing_dataset[col_list]\n",
    "    else:\n",
    "        training_subset = training_dataset\n",
    "        testing_subset = testing_dataset\n",
    "        \n",
    "    X_v = training_subset.iloc[:, :-1].values\n",
    "    y_v = training_subset.iloc[:, -1].values\n",
    "    y_v = np.asarray(y_v, int)\n",
    "    T_v = testing_subset.iloc[:,].values\n",
    "    Xtrain, Xtest, ytrain, ytest = train_test_split(X_v, y_v, test_size=0.3, random_state=1)\n",
    "\n",
    "    std_scaler = StandardScaler()\n",
    "    sc = MinMaxScaler()\n",
    "    rb = RobustScaler()\n",
    "\n",
    "    Xtrain=sc.fit_transform(Xtrain)\n",
    "    Xtest=sc.transform(Xtest)\n",
    "    T_v=sc.transform(T_v)\n",
    "    return Xtrain, Xtest, ytrain, ytest, T_v\n",
    "\n",
    "Xtrain, Xtest, ytrain, ytest, T = get_XYT()\n"
   ]
  },
  {
   "cell_type": "markdown",
   "metadata": {},
   "source": [
    "## Model Tuning & Feature Selection"
   ]
  },
  {
   "cell_type": "code",
   "execution_count": 5,
   "metadata": {
    "scrolled": false
   },
   "outputs": [
    {
     "name": "stdout",
     "output_type": "stream",
     "text": [
      "[0.90054237 0.91247768 0.91045206 0.90165264 0.90436808]\n",
      "Classifiers:  LogisticRegression Has a training score of 90.5899 % auc score\n",
      "[0.91198709 0.91085259 0.91774657 0.90840247 0.91049875]\n",
      "Classifiers:  KNeighborsClassifier Has a training score of 91.1897 % auc score\n",
      "[0.89499464 0.90801469 0.90512016 0.89824481 0.89986479]\n",
      "Classifiers:  SVC Has a training score of 90.12480000000001 % auc score\n",
      "[0.84282361 0.85033165 0.84570641 0.83685647 0.84144599]\n",
      "Classifiers:  DecisionTreeClassifier Has a training score of 84.3433 % auc score\n",
      "[0.94959309 0.95215598 0.95297668 0.9481772  0.95419945]\n",
      "Classifiers:  GradientBoostingClassifier Has a training score of 95.14200000000001 % auc score\n",
      "[0.95608067 0.9620575  0.96124828 0.95511837 0.95868054]\n",
      "Classifiers:  XGBClassifier Has a training score of 95.8637 % auc score\n",
      "[0.93795984 0.94901985 0.94321573 0.93702561 0.943666  ]\n",
      "Classifiers:  ExtraTreesClassifier Has a training score of 94.21770000000001 % auc score\n",
      "[0.93824557 0.94522042 0.94471146 0.94461146 0.94919613]\n",
      "Classifiers:  RandomForestClassifier Has a training score of 94.4397 % auc score\n"
     ]
    }
   ],
   "source": [
    "classifiers = {\n",
    "    \"LogisiticRegression\": LogisticRegression(penalty='l2'),\n",
    "    \"KNearest\": KNeighborsClassifier(),\n",
    "    \"Support Vector Classifier\": SVC(),\n",
    "    \"DecisionTreeClassifier\": DecisionTreeClassifier(),\n",
    "    \"Grad Booster\": GradientBoostingClassifier(),\n",
    "     \"X Grad Booster\": XGBClassifier(),\n",
    "    \"extra tree\":ExtraTreesClassifier(),\n",
    "    \"Random forest\":RandomForestClassifier()\n",
    "}\n",
    "\n",
    "\n",
    "\n",
    "for key, classifier in classifiers.items():\n",
    "    classifier.fit(Xtrain, ytrain)\n",
    "    training_score = cross_val_score(classifier, Xtrain, ytrain, cv=5, scoring='roc_auc')\n",
    "    print(training_score)\n",
    "    print(\"Classifiers: \", classifier.__class__.__name__, \"Has a training score of\", round(training_score.mean(), 6) * 100, \"% auc score\")\n",
    "    #training_score = cross_val_score(classifier, Xtrain, ytrain, cv=5, scoring='accuracy')\n",
    "    #print(training_score)\n",
    "    #print(\"Classifiers: \", classifier.__class__.__name__, \"Has a training score of\", round(training_score.mean(), 6) * 100, \"% accuracy_score\")"
   ]
  },
  {
   "cell_type": "code",
   "execution_count": 8,
   "metadata": {
    "scrolled": true
   },
   "outputs": [
    {
     "name": "stdout",
     "output_type": "stream",
     "text": [
      "The features with optimal result is ['source_pre_siz', 'sink_pre_siz', 'source_suc_siz', 'pre_pre_cos', 'suc_pre_cos', 'uhi', 'Common_Following_With_Sink_Followers', 'Common_follower_with_source_followings', 'Jaccard_coefficient', 'Within_inter_cluster']\n"
     ]
    }
   ],
   "source": [
    "check_rfe= True\n",
    "if check_rfe:\n",
    "    rfes = []\n",
    "    scores = []\n",
    "    for n in range(max(6, len(training_dataset.columns)-10),len(training_dataset.columns)):\n",
    "        xgb = XGBClassifier(n_estimators=500, learning_rate=0.2,max_depth=6, min_child_weight=1)\n",
    "        rfe = RFE(LogisticRegression(penalty='l1'), n, 1).fit(Xtrain, ytrain)\n",
    "        rfes.append(rfe)\n",
    "        yHat = rfe.predict(Xtrain)\n",
    "        scores.append(roc_auc_score(ytrain, yHat))\n",
    "    best_rfe = rfes[scores.index(max(scores))]\n",
    "    results = best_rfe.support_ # what features where used\n",
    "    new_cols = [] # X with selected features\n",
    "    for feat, result in list(zip(training_dataset.columns[:-1], results)):\n",
    "        if result == True:\n",
    "            new_cols.append(feat)\n",
    "\n",
    "    print(f'The features with optimal result is {new_cols}')\n",
    "\n",
    "    Xtrain, Xtest, ytrain, ytest, T = get_XYT(new_cols)"
   ]
  },
  {
   "cell_type": "code",
   "execution_count": 5,
   "metadata": {},
   "outputs": [
    {
     "data": {
      "text/plain": [
       "Index(['source_pre_siz', 'sink_pre_siz', 'source_suc_siz', 'sink_suc_siz',\n",
       "       'pre_pre_cos', 'suc_pre_cos', 'uhi', 'Common_Following',\n",
       "       'Common_Follower', 'Common_Following_With_Sink_Followers',\n",
       "       'Common_follower_with_source_followings', 'Resource_allocation_index',\n",
       "       'Jaccard_coefficient', 'Adamic_adar_index', 'Cn_soundarajan_hopcroft',\n",
       "       'Ra_index_soundarajan_hopcroft', 'Within_inter_cluster',\n",
       "       'Preferential_attachment', 'Label'],\n",
       "      dtype='object')"
      ]
     },
     "execution_count": 5,
     "metadata": {},
     "output_type": "execute_result"
    }
   ],
   "source": [
    "training_dataset.columns"
   ]
  },
  {
   "cell_type": "code",
   "execution_count": 6,
   "metadata": {
    "scrolled": true
   },
   "outputs": [
    {
     "name": "stdout",
     "output_type": "stream",
     "text": [
      "Fitting 3 folds for each of 24 candidates, totalling 72 fits\n"
     ]
    },
    {
     "name": "stderr",
     "output_type": "stream",
     "text": [
      "[Parallel(n_jobs=5)]: Using backend LokyBackend with 5 concurrent workers.\n",
      "[Parallel(n_jobs=5)]: Done  31 tasks      | elapsed:  1.2min\n",
      "[Parallel(n_jobs=5)]: Done  72 out of  72 | elapsed:  2.8min finished\n"
     ]
    },
    {
     "name": "stdout",
     "output_type": "stream",
     "text": [
      "0.9635503988113336\n",
      "{'base_score': 0.5, 'booster': 'gbtree', 'colsample_bylevel': 1, 'colsample_bytree': 1, 'gamma': 0, 'learning_rate': 0.05, 'max_delta_step': 0, 'max_depth': 6, 'min_child_weight': 10, 'missing': None, 'n_estimators': 500, 'n_jobs': 1, 'nthread': None, 'objective': 'binary:logistic', 'random_state': 0, 'reg_alpha': 0, 'reg_lambda': 1, 'scale_pos_weight': 1, 'seed': 1337, 'silent': True, 'subsample': 0.8}\n"
     ]
    }
   ],
   "source": [
    "parameters = {'objective':['binary:logistic'],\n",
    "              'learning_rate': [0.2, 0.05, 0.02], #so called `eta` value\n",
    "              'max_depth': [3, 6],\n",
    "              'min_child_weight': [10, 50],\n",
    "              'subsample': [0.8],\n",
    "              'n_estimators': [100, 500], #number of trees, change it to 1000 for better results\n",
    "              'seed': [1337]}\n",
    "\n",
    "kfold = StratifiedKFold(n_splits=3)\n",
    "clf = GridSearchCV(XGBClassifier(), parameters, n_jobs=5, \n",
    "                   cv=kfold, \n",
    "                   scoring='roc_auc',\n",
    "                   verbose=2, refit=True)\n",
    "clf.fit(Xtrain, ytrain)\n",
    "\n",
    "XGB_best = clf.best_estimator_\n",
    "\n",
    "# Best score\n",
    "print(clf.best_score_)\n",
    "print(XGB_best.get_params())"
   ]
  },
  {
   "cell_type": "code",
   "execution_count": 7,
   "metadata": {},
   "outputs": [
    {
     "name": "stdout",
     "output_type": "stream",
     "text": [
      "Gini: 0.229970, Max. Gini: 0.245833, Normalized Gini: 0.935472\n",
      "AUC is : 0.967736\n",
      "Accuracy: 89.82%\n",
      "[[2699  251]\n",
      " [ 360 2690]]\n"
     ]
    },
    {
     "data": {
      "image/png": "[encoded data removed]",
      "text/plain": [
       "<Figure size 432x288 with 1 Axes>"
      ]
     },
     "metadata": {
      "needs_background": "light"
     },
     "output_type": "display_data"
    }
   ],
   "source": [
    "XGB_best.fit(Xtrain, ytrain)\n",
    "ypred = XGB_best.predict_proba(Xtest)[:,1]\n",
    "output_gini(ytest, ypred)\n",
    "ypred = XGB_best.predict(Xtest)\n",
    "output_acc(ytest, ypred)"
   ]
  },
  {
   "cell_type": "code",
   "execution_count": 8,
   "metadata": {},
   "outputs": [
    {
     "name": "stdout",
     "output_type": "stream",
     "text": [
      "Gini: 0.202785, Max. Gini: 0.245833, Normalized Gini: 0.824888\n",
      "AUC is : 0.912444\n",
      "Accuracy: 81.78%\n",
      "[[2568  382]\n",
      " [ 711 2339]]\n"
     ]
    },
    {
     "data": {
      "image/png": "[encoded data removed]",
      "text/plain": [
       "<Figure size 432x288 with 1 Axes>"
      ]
     },
     "metadata": {
      "needs_background": "light"
     },
     "output_type": "display_data"
    }
   ],
   "source": [
    "#Simple LR model\n",
    "lr = LogisticRegression(penalty='l1')\n",
    "lr.fit(Xtrain, ytrain)\n",
    "ypred = lr.predict_proba(Xtest)[:,1]\n",
    "output_gini(ytest, ypred)\n",
    "\n",
    "ypred = lr.predict(Xtest)\n",
    "output_acc(ytest, ypred)"
   ]
  },
  {
   "cell_type": "code",
   "execution_count": 9,
   "metadata": {},
   "outputs": [
    {
     "name": "stdout",
     "output_type": "stream",
     "text": [
      "Gini: 0.198159, Max. Gini: 0.245833, Normalized Gini: 0.806070\n",
      "AUC is : 0.903034\n",
      "Accuracy: 80.48%\n",
      "[[2541  409]\n",
      " [ 762 2288]]\n"
     ]
    },
    {
     "data": {
      "image/png": "[encoded data removed]",
      "text/plain": [
       "<Figure size 432x288 with 1 Axes>"
      ]
     },
     "metadata": {
      "needs_background": "light"
     },
     "output_type": "display_data"
    }
   ],
   "source": [
    "#Classic SVM model\n",
    "svm = SVC(probability=True)\n",
    "svm.fit(Xtrain, ytrain)\n",
    "ypred = svm.predict_proba(Xtest)[:,1]\n",
    "output_gini(ytest, ypred)\n",
    "\n",
    "ypred = svm.predict(Xtest)\n",
    "output_acc(ytest, ypred)"
   ]
  },
  {
   "cell_type": "markdown",
   "metadata": {},
   "source": [
    "## Submission"
   ]
  },
  {
   "cell_type": "code",
   "execution_count": 10,
   "metadata": {},
   "outputs": [],
   "source": [
    "tpred=XGB_best.predict_proba(T)[:,1]\n",
    "x=pd.DataFrame({'Id':np.arange(1,2001), 'Predicted':tpred})\n",
    "x.to_csv('./data_processing/submit.csv',index=False)"
   ]
  }
 ],
 "metadata": {
  "kernelspec": {
   "display_name": "Python 3",
   "language": "python",
   "name": "python3"
  },
  "language_info": {
   "codemirror_mode": {
    "name": "ipython",
    "version": 3
   },
   "file_extension": ".py",
   "mimetype": "text/x-python",
   "name": "python",
   "nbconvert_exporter": "python",
   "pygments_lexer": "ipython3",
   "version": "3.6.3"
  }
 },
 "nbformat": 4,
 "nbformat_minor": 1
}